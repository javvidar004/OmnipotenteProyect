{
 "cells": [
  {
   "cell_type": "code",
   "execution_count": null,
   "id": "cd6880b8",
   "metadata": {},
   "outputs": [
    {
     "ename": "",
     "evalue": "",
     "output_type": "error",
     "traceback": [
      "\u001b[1;31mRunning cells with 'Python 3.12.3' requires the ipykernel package.\n",
      "\u001b[1;31m<a href='command:jupyter.createPythonEnvAndSelectController'>Create a Python Environment</a> with the required packages.\n",
      "\u001b[1;31mOr install 'ipykernel' using the command: '/usr/bin/python3 -m pip install ipykernel -U --user --force-reinstall'"
     ]
    }
   ],
   "source": [
    "datos = [{'id_reporte': 1, \n",
    "  'id_seccion': 144, \n",
    "  'fecha': datetime.datetime(2025, 5, 21, 11, 11), \n",
    "  'tipo': 'Extorsion', \n",
    "  'reporte': 'Bruno'}, \n",
    "  {'id_reporte': 2, \n",
    "   'id_seccion': 303, \n",
    "   'fecha': datetime.datetime(2025, 5, 21, 11, 11), \n",
    "   'tipo': 'Secuestro', \n",
    "   'reporte': 'Bruno'}, \n",
    "   {'id_reporte': 3, \n",
    "    'id_seccion': 196, \n",
    "    'fecha': datetime.datetime(2025, 5, 22, 11, 11), \n",
    "    'tipo': 'Extorsion', \n",
    "    'reporte': 'a'}, \n",
    "    {'id_reporte': 4, \n",
    "    'id_seccion': 196, \n",
    "    'fecha': datetime.datetime(1111, 11, 11, 11, 11), \n",
    "    'tipo': 'riña', 'reporte': '1'}, \n",
    "    {'id_reporte': 5, \n",
    "    'id_seccion': 188, \n",
    "    'fecha': datetime.datetime(2025, 5, 19, 7, 0), \n",
    "    'tipo': 'Secuestro', \n",
    "    'reporte': 'Por Santi'}, \n",
    "    {'id_reporte': 6, \n",
    "    'id_seccion': 196, \n",
    "    'fecha': datetime.datetime(2025, 5, 29, 9, 0), \n",
    "    'tipo': 'riña', \n",
    "    'reporte': 'Javi me pego'}]\n"
   ]
  }
 ],
 "metadata": {
  "kernelspec": {
   "display_name": "Python 3",
   "language": "python",
   "name": "python3"
  },
  "language_info": {
   "name": "python",
   "version": "3.12.3"
  }
 },
 "nbformat": 4,
 "nbformat_minor": 5
}
